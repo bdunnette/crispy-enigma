{
 "cells": [
  {
   "cell_type": "code",
   "execution_count": null,
   "id": "6d3c07d5",
   "metadata": {},
   "outputs": [],
   "source": [
    "%pip install -q pandas\n"
   ]
  },
  {
   "cell_type": "code",
   "execution_count": null,
   "id": "6821ae71",
   "metadata": {},
   "outputs": [],
   "source": [
    "import pandas as pd\n"
   ]
  },
  {
   "cell_type": "code",
   "execution_count": null,
   "id": "fe5e4392",
   "metadata": {},
   "outputs": [],
   "source": [
    "pandas.__version__\n"
   ]
  }
 ],
 "metadata": {
  "kernelspec": {
   "display_name": "crispy_enigma",
   "language": "python",
   "name": "python3"
  },
  "language_info": {
   "name": "python",
   "version": "3.11.9"
  }
 },
 "nbformat": 4,
 "nbformat_minor": 5
}
