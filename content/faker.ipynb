{
 "cells": [
  {
   "cell_type": "code",
   "execution_count": null,
   "id": "bd982963",
   "metadata": {},
   "outputs": [],
   "source": [
    "import pandas as pd\n"
   ]
  },
  {
   "cell_type": "code",
   "execution_count": null,
   "id": "7b7143ec",
   "metadata": {},
   "outputs": [],
   "source": [
    "# Set up Faker\n",
    "from faker import Faker\n",
    "\n",
    "fake = Faker()\n"
   ]
  },
  {
   "cell_type": "code",
   "execution_count": null,
   "id": "f5a08139",
   "metadata": {},
   "outputs": [],
   "source": [
    "# Generate fake biospecimen data\n",
    "data = {\n",
    "    \"id\": [fake.uuid4() for _ in range(100)],\n",
    "    \"type\": [\n",
    "        fake.random_element(elements=(\"blood\", \"tissue\", \"urine\")) for _ in range(100)\n",
    "    ],\n",
    "    \"collection_date\": [\n",
    "        fake.date_between(start_date=\"-5y\", end_date=\"today\") for _ in range(100)\n",
    "    ],\n",
    "    \"patient_id\": [fake.uuid4() for _ in range(100)],\n",
    "    \"metadata\": [fake.text(max_nb_chars=200) for _ in range(100)],\n",
    "}\n",
    "df = pd.DataFrame(data)\n",
    "df.head()\n"
   ]
  }
 ],
 "metadata": {
  "language_info": {
   "name": "python"
  }
 },
 "nbformat": 4,
 "nbformat_minor": 5
}
